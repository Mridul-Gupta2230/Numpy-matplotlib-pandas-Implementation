{
 "cells": [
  {
   "cell_type": "markdown",
   "id": "17a63ad5-027c-41e8-b576-185531084d94",
   "metadata": {},
   "source": [
    "# Numpy.array implementation"
   ]
  },
  {
   "cell_type": "code",
   "execution_count": 17,
   "id": "e6ba5529-95ed-4660-83f1-bde03b863b8d",
   "metadata": {},
   "outputs": [],
   "source": [
    "import numpy as np"
   ]
  },
  {
   "cell_type": "markdown",
   "id": "1c29b5e9-8f29-4a67-8a23-86345e377a9f",
   "metadata": {},
   "source": [
    "my_list1 = [1, 2, 3, 4]\n",
    "my_array1 = np.array(my_list1)"
   ]
  },
  {
   "cell_type": "code",
   "execution_count": 5,
   "id": "0b9a4749-aa4c-4c34-b745-2c594c427c6e",
   "metadata": {},
   "outputs": [
    {
     "data": {
      "text/plain": [
       "array([1, 2, 3, 4])"
      ]
     },
     "execution_count": 5,
     "metadata": {},
     "output_type": "execute_result"
    }
   ],
   "source": [
    "my_array1"
   ]
  },
  {
   "cell_type": "code",
   "execution_count": 7,
   "id": "939a52e5-a486-4222-a9d7-51554a34017b",
   "metadata": {},
   "outputs": [],
   "source": [
    "my_list2 = [11, 22, 33, 44]\n",
    "my_lists = [my_list1, my_list2]\n",
    "my_array2 = np.array(my_lists)"
   ]
  },
  {
   "cell_type": "code",
   "execution_count": 9,
   "id": "f2ad9152-cb08-40c0-abc6-f7019087edea",
   "metadata": {},
   "outputs": [
    {
     "data": {
      "text/plain": [
       "array([[ 1,  2,  3,  4],\n",
       "       [11, 22, 33, 44]])"
      ]
     },
     "execution_count": 9,
     "metadata": {},
     "output_type": "execute_result"
    }
   ],
   "source": [
    "my_array2"
   ]
  },
  {
   "cell_type": "markdown",
   "id": "0a2d646e-7fb7-46a1-96f1-bde19ade8dfa",
   "metadata": {},
   "source": [
    "# Finding Shape of Array"
   ]
  },
  {
   "cell_type": "code",
   "execution_count": 11,
   "id": "8096c9b3-2eb6-4117-84ef-bcd3b7c3e80f",
   "metadata": {},
   "outputs": [
    {
     "data": {
      "text/plain": [
       "(2, 4)"
      ]
     },
     "execution_count": 11,
     "metadata": {},
     "output_type": "execute_result"
    }
   ],
   "source": [
    "my_array2.shape\n"
   ]
  },
  {
   "cell_type": "markdown",
   "id": "29e7fda0-4171-4186-8291-3e9759030143",
   "metadata": {},
   "source": [
    "# Data Type of Array\n"
   ]
  },
  {
   "cell_type": "code",
   "execution_count": 13,
   "id": "90acf0a4-fba4-4b28-bf47-db276c204e08",
   "metadata": {},
   "outputs": [
    {
     "data": {
      "text/plain": [
       "dtype('int64')"
      ]
     },
     "execution_count": 13,
     "metadata": {},
     "output_type": "execute_result"
    }
   ],
   "source": [
    "my_array2.dtype"
   ]
  },
  {
   "cell_type": "markdown",
   "id": "63d55ded-2a11-461c-ac51-26b9f925d0fb",
   "metadata": {},
   "source": [
    "#  Special ARRAYS in Numpy"
   ]
  },
  {
   "cell_type": "code",
   "execution_count": 15,
   "id": "abe7bab7-2049-48b9-bcc1-28a5098d752c",
   "metadata": {},
   "outputs": [
    {
     "data": {
      "text/plain": [
       "array([0., 0., 0., 0., 0.])"
      ]
     },
     "execution_count": 15,
     "metadata": {},
     "output_type": "execute_result"
    }
   ],
   "source": [
    "np.zeros(5)"
   ]
  },
  {
   "cell_type": "code",
   "execution_count": 17,
   "id": "f0540883-816a-4329-b2b3-7a655db7c55a",
   "metadata": {
    "scrolled": true
   },
   "outputs": [
    {
     "data": {
      "text/plain": [
       "array([[1., 0., 0., 0., 0.],\n",
       "       [0., 1., 0., 0., 0.],\n",
       "       [0., 0., 1., 0., 0.],\n",
       "       [0., 0., 0., 1., 0.],\n",
       "       [0., 0., 0., 0., 1.]])"
      ]
     },
     "execution_count": 17,
     "metadata": {},
     "output_type": "execute_result"
    }
   ],
   "source": [
    "np.eye(5)"
   ]
  },
  {
   "cell_type": "code",
   "execution_count": 19,
   "id": "5436020a-ff8e-43ed-8d5d-10e9cb4d5e86",
   "metadata": {},
   "outputs": [
    {
     "data": {
      "text/plain": [
       "array([[1., 1., 1., 1.],\n",
       "       [1., 1., 1., 1.],\n",
       "       [1., 1., 1., 1.],\n",
       "       [1., 1., 1., 1.]])"
      ]
     },
     "execution_count": 19,
     "metadata": {},
     "output_type": "execute_result"
    }
   ],
   "source": [
    "np.ones((4,4))"
   ]
  },
  {
   "cell_type": "code",
   "execution_count": 21,
   "id": "4bfb473b-8502-4a53-96a1-50dba8216ffc",
   "metadata": {},
   "outputs": [
    {
     "data": {
      "text/plain": [
       "array([[9.49872844e-312, 2.47032823e-322, 0.00000000e+000,\n",
       "        0.00000000e+000],\n",
       "       [6.23053953e-307, 1.58817677e-052, 5.28327832e-091,\n",
       "        9.60074717e-071],\n",
       "       [9.98864997e-048, 2.67610749e+184, 3.99910963e+252,\n",
       "        3.73819801e-317]])"
      ]
     },
     "execution_count": 21,
     "metadata": {},
     "output_type": "execute_result"
    }
   ],
   "source": [
    "np.empty((3,4))"
   ]
  },
  {
   "cell_type": "markdown",
   "id": "1af52969-0112-4fb1-afe0-efaeac995148",
   "metadata": {},
   "source": [
    "# CREATING ARRAY USING ARANGE()"
   ]
  },
  {
   "cell_type": "code",
   "execution_count": 23,
   "id": "9e134b9d-71f1-46bf-b2e7-3a3e92b967f7",
   "metadata": {},
   "outputs": [
    {
     "data": {
      "text/plain": [
       "array([5, 7, 9])"
      ]
     },
     "execution_count": 23,
     "metadata": {},
     "output_type": "execute_result"
    }
   ],
   "source": [
    "np.arange(5,10,2)"
   ]
  },
  {
   "cell_type": "markdown",
   "id": "a1393ba5-718f-43a2-8c39-8a35f74fe299",
   "metadata": {},
   "source": [
    "# Direct Creation"
   ]
  },
  {
   "cell_type": "code",
   "execution_count": 25,
   "id": "3ed0426a-d64a-4474-bf45-f557e386b4c2",
   "metadata": {},
   "outputs": [
    {
     "data": {
      "text/plain": [
       "array([[ 1,  2,  3],\n",
       "       [ 8,  9, 10]])"
      ]
     },
     "execution_count": 25,
     "metadata": {},
     "output_type": "execute_result"
    }
   ],
   "source": [
    "from __future__ import division \n",
    "arr1 = np.array([[1,2,3], [8,9,10]]) \n",
    "arr1"
   ]
  },
  {
   "cell_type": "markdown",
   "id": "f34a4909-024f-43ae-86ad-bcd2f57bd3db",
   "metadata": {},
   "source": [
    "# Operations on ARRAY"
   ]
  },
  {
   "cell_type": "code",
   "execution_count": 27,
   "id": "95c0d494-5e7a-495a-9e99-1c4856e6150a",
   "metadata": {},
   "outputs": [
    {
     "data": {
      "text/plain": [
       "array([[0, 0, 0],\n",
       "       [0, 0, 0]])"
      ]
     },
     "execution_count": 27,
     "metadata": {},
     "output_type": "execute_result"
    }
   ],
   "source": [
    "arr1+arr1\n",
    "arr1*arr1\n",
    "arr1/arr1\n",
    "arr1-arr1"
   ]
  },
  {
   "cell_type": "markdown",
   "id": "8ab44205-d9c0-4d01-aeb9-0e0cd11140d4",
   "metadata": {},
   "source": [
    "# INDEXING AND SLICING\n"
   ]
  },
  {
   "cell_type": "code",
   "execution_count": 31,
   "id": "438e645f-b788-4b11-9892-c4142cff7aeb",
   "metadata": {},
   "outputs": [
    {
     "data": {
      "text/plain": [
       "array([ 0,  1,  2,  3,  4,  5,  6,  7,  8,  9, 10])"
      ]
     },
     "execution_count": 31,
     "metadata": {},
     "output_type": "execute_result"
    }
   ],
   "source": [
    "arr = np.arange(11)\n",
    "arr"
   ]
  },
  {
   "cell_type": "markdown",
   "id": "c4aa4739-a2ca-4677-adf8-3a2ad851ad1e",
   "metadata": {},
   "source": [
    "# Slicing "
   ]
  },
  {
   "cell_type": "code",
   "execution_count": 33,
   "id": "9a6f7dd8-8102-462c-84d3-3b1d41283ed9",
   "metadata": {},
   "outputs": [
    {
     "data": {
      "text/plain": [
       "array([0, 1, 2, 3, 4, 5])"
      ]
     },
     "execution_count": 33,
     "metadata": {},
     "output_type": "execute_result"
    }
   ],
   "source": [
    "slice_of_arr = arr[0:6]\n",
    "slice_of_arr"
   ]
  },
  {
   "cell_type": "markdown",
   "id": "85231e9f-be06-4270-bb48-32ead9196ac8",
   "metadata": {},
   "source": [
    "# Replacing Sliced Element by any number"
   ]
  },
  {
   "cell_type": "code",
   "execution_count": 35,
   "id": "42cbc009-e8f1-421c-b859-30dc56e6cd03",
   "metadata": {},
   "outputs": [
    {
     "data": {
      "text/plain": [
       "array([99, 99, 99, 99, 99, 99])"
      ]
     },
     "execution_count": 35,
     "metadata": {},
     "output_type": "execute_result"
    }
   ],
   "source": [
    "slice_of_arr[:]=99 \n",
    "slice_of_arr"
   ]
  },
  {
   "cell_type": "markdown",
   "id": "6a812c88-c00c-43cb-87fe-ca820be56b23",
   "metadata": {},
   "source": [
    "## The replacement also affects original array"
   ]
  },
  {
   "cell_type": "code",
   "execution_count": 37,
   "id": "3a1dcb3f-d525-4cad-af3f-09b1afa111d5",
   "metadata": {},
   "outputs": [
    {
     "data": {
      "text/plain": [
       "array([99, 99, 99, 99, 99, 99,  6,  7,  8,  9, 10])"
      ]
     },
     "execution_count": 37,
     "metadata": {},
     "output_type": "execute_result"
    }
   ],
   "source": [
    "arr"
   ]
  },
  {
   "cell_type": "code",
   "execution_count": 39,
   "id": "8681c10b-2103-4eae-bf82-0d4ab1078f29",
   "metadata": {},
   "outputs": [
    {
     "data": {
      "text/plain": [
       "array([[ 5, 10, 15],\n",
       "       [20, 25, 30],\n",
       "       [35, 40, 45]])"
      ]
     },
     "execution_count": 39,
     "metadata": {},
     "output_type": "execute_result"
    }
   ],
   "source": [
    "arr_2d = np.array(([5,10,15],[20,25,30],[35,40,45]))\n",
    "arr_2d"
   ]
  },
  {
   "cell_type": "code",
   "execution_count": 41,
   "id": "0adfe949-7e8f-433c-8250-20414bb7fa05",
   "metadata": {},
   "outputs": [
    {
     "data": {
      "text/plain": [
       "array([[10, 15],\n",
       "       [25, 30]])"
      ]
     },
     "execution_count": 41,
     "metadata": {},
     "output_type": "execute_result"
    }
   ],
   "source": [
    "arr_2d[:2,1:]"
   ]
  },
  {
   "cell_type": "code",
   "execution_count": 43,
   "id": "db34462f-6cbb-4cb9-9aa6-0223a76a20b1",
   "metadata": {},
   "outputs": [
    {
     "data": {
      "text/plain": [
       "array([[35, 40, 45],\n",
       "       [20, 25, 30]])"
      ]
     },
     "execution_count": 43,
     "metadata": {},
     "output_type": "execute_result"
    }
   ],
   "source": [
    "arr_2d[[2,1]]"
   ]
  },
  {
   "cell_type": "markdown",
   "id": "f88cdf3b-ac81-4ef0-aef3-f546944b1f10",
   "metadata": {},
   "source": [
    "# The Reshape() : used to reshape in form of reshape(no. of rows, no. of Columns)"
   ]
  },
  {
   "cell_type": "code",
   "execution_count": 45,
   "id": "9bfbe300-87b1-4445-a318-b4d1baf715db",
   "metadata": {},
   "outputs": [
    {
     "data": {
      "text/plain": [
       "array([[ 0,  1,  2,  3,  4,  5],\n",
       "       [ 6,  7,  8,  9, 10, 11],\n",
       "       [12, 13, 14, 15, 16, 17],\n",
       "       [18, 19, 20, 21, 22, 23]])"
      ]
     },
     "execution_count": 45,
     "metadata": {},
     "output_type": "execute_result"
    }
   ],
   "source": [
    "arr = np.arange(24).reshape((4,6)) \n",
    "arr"
   ]
  },
  {
   "cell_type": "markdown",
   "id": "72d5671a-2567-4319-af0b-b14cacfc0b4e",
   "metadata": {},
   "source": [
    "# Transpose of any Matrix"
   ]
  },
  {
   "cell_type": "code",
   "execution_count": 47,
   "id": "1f172815-7fe6-44b0-9047-9300301e3701",
   "metadata": {},
   "outputs": [
    {
     "data": {
      "text/plain": [
       "array([[ 0,  6, 12, 18],\n",
       "       [ 1,  7, 13, 19],\n",
       "       [ 2,  8, 14, 20],\n",
       "       [ 3,  9, 15, 21],\n",
       "       [ 4, 10, 16, 22],\n",
       "       [ 5, 11, 17, 23]])"
      ]
     },
     "execution_count": 47,
     "metadata": {},
     "output_type": "execute_result"
    }
   ],
   "source": [
    "arr.T"
   ]
  },
  {
   "cell_type": "markdown",
   "id": "fc9c9cc1-efea-469c-8eb8-8b6963b60500",
   "metadata": {},
   "source": [
    "# dot product of two matrix"
   ]
  },
  {
   "cell_type": "code",
   "execution_count": 49,
   "id": "f8049ee3-911c-411d-9a3c-e00cc0009394",
   "metadata": {},
   "outputs": [
    {
     "data": {
      "text/plain": [
       "array([[504, 540, 576, 612, 648, 684],\n",
       "       [540, 580, 620, 660, 700, 740],\n",
       "       [576, 620, 664, 708, 752, 796],\n",
       "       [612, 660, 708, 756, 804, 852],\n",
       "       [648, 700, 752, 804, 856, 908],\n",
       "       [684, 740, 796, 852, 908, 964]])"
      ]
     },
     "execution_count": 49,
     "metadata": {},
     "output_type": "execute_result"
    }
   ],
   "source": [
    "np.dot(arr.T,arr)"
   ]
  },
  {
   "cell_type": "markdown",
   "id": "4eb2d7d3-912b-492e-a7cd-302ba1641155",
   "metadata": {},
   "source": [
    "# 3D matrix"
   ]
  },
  {
   "cell_type": "code",
   "execution_count": 51,
   "id": "a8d9491c-fa1e-4551-b580-5eafeb0915b5",
   "metadata": {},
   "outputs": [],
   "source": [
    "arr3d = np.arange(18).reshape((3,3,2))"
   ]
  },
  {
   "cell_type": "code",
   "execution_count": 53,
   "id": "65f646c5-d3a1-499f-b791-779a7050a3ab",
   "metadata": {},
   "outputs": [
    {
     "data": {
      "text/plain": [
       "array([[[ 0,  1],\n",
       "        [ 2,  3],\n",
       "        [ 4,  5]],\n",
       "\n",
       "       [[ 6,  7],\n",
       "        [ 8,  9],\n",
       "        [10, 11]],\n",
       "\n",
       "       [[12, 13],\n",
       "        [14, 15],\n",
       "        [16, 17]]])"
      ]
     },
     "execution_count": 53,
     "metadata": {},
     "output_type": "execute_result"
    }
   ],
   "source": [
    "arr3d"
   ]
  },
  {
   "cell_type": "markdown",
   "id": "ea60e85e-ed3d-48cc-97a3-ae38d9685c8e",
   "metadata": {},
   "source": [
    "# 3D Matrix Transpose"
   ]
  },
  {
   "cell_type": "code",
   "execution_count": 55,
   "id": "51eac7bf-fd07-4fb6-81cd-73c026bc3966",
   "metadata": {},
   "outputs": [
    {
     "data": {
      "text/plain": [
       "array([[[ 0,  1],\n",
       "        [ 6,  7],\n",
       "        [12, 13]],\n",
       "\n",
       "       [[ 2,  3],\n",
       "        [ 8,  9],\n",
       "        [14, 15]],\n",
       "\n",
       "       [[ 4,  5],\n",
       "        [10, 11],\n",
       "        [16, 17]]])"
      ]
     },
     "execution_count": 55,
     "metadata": {},
     "output_type": "execute_result"
    }
   ],
   "source": [
    "arr3d.transpose((1,0,2))"
   ]
  },
  {
   "cell_type": "code",
   "execution_count": 24,
   "id": "5598c670-7306-40e1-92b5-f7ce591fd49b",
   "metadata": {},
   "outputs": [
    {
     "data": {
      "text/plain": [
       "array([0.        , 1.        , 1.41421356, 1.73205081, 2.        ,\n",
       "       2.23606798])"
      ]
     },
     "execution_count": 24,
     "metadata": {},
     "output_type": "execute_result"
    }
   ],
   "source": [
    "arr = np.arange(6)\n",
    "arr\n",
    "\n",
    "np.sqrt(arr)"
   ]
  },
  {
   "cell_type": "markdown",
   "id": "5e967755-ce2a-451f-98f5-8ff55af90776",
   "metadata": {},
   "source": [
    "# Array elements e^"
   ]
  },
  {
   "cell_type": "code",
   "execution_count": 26,
   "id": "6083fc8d-6da7-44cc-a3f8-b9f79bfdf358",
   "metadata": {},
   "outputs": [
    {
     "data": {
      "text/plain": [
       "array([  1.        ,   2.71828183,   7.3890561 ,  20.08553692,\n",
       "        54.59815003, 148.4131591 ])"
      ]
     },
     "execution_count": 26,
     "metadata": {},
     "output_type": "execute_result"
    }
   ],
   "source": [
    "np.exp(arr)"
   ]
  },
  {
   "cell_type": "markdown",
   "id": "358dc712-b92e-4182-a44e-4764767b36f6",
   "metadata": {},
   "source": [
    "# Array of Random Numbers"
   ]
  },
  {
   "cell_type": "code",
   "execution_count": 69,
   "id": "6115ac8d-0a31-4dba-b6d1-f3c1144c433d",
   "metadata": {},
   "outputs": [
    {
     "data": {
      "text/plain": [
       "array([-0.77083596,  0.06660285, -2.03966919, -0.68493196,  0.3923546 ,\n",
       "        0.09866972, -0.53130157, -1.89246241, -1.24497539, -0.53095759])"
      ]
     },
     "execution_count": 69,
     "metadata": {},
     "output_type": "execute_result"
    }
   ],
   "source": [
    "np.random.randn(10)"
   ]
  },
  {
   "cell_type": "code",
   "execution_count": null,
   "id": "d2531915-ed1e-4f8d-b70d-a94ce4e1465e",
   "metadata": {},
   "outputs": [],
   "source": []
  }
 ],
 "metadata": {
  "kernelspec": {
   "display_name": "Python 3 (ipykernel)",
   "language": "python",
   "name": "python3"
  },
  "language_info": {
   "codemirror_mode": {
    "name": "ipython",
    "version": 3
   },
   "file_extension": ".py",
   "mimetype": "text/x-python",
   "name": "python",
   "nbconvert_exporter": "python",
   "pygments_lexer": "ipython3",
   "version": "3.12.4"
  }
 },
 "nbformat": 4,
 "nbformat_minor": 5
}
