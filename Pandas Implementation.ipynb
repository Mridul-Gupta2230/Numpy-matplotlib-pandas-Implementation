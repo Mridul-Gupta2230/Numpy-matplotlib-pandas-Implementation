{
 "cells": [
  {
   "cell_type": "markdown",
   "id": "ed534a63-0bf3-4924-a2c0-85f21e50a922",
   "metadata": {},
   "source": [
    "# Pandas Module in Python\n"
   ]
  },
  {
   "cell_type": "code",
   "execution_count": 7,
   "id": "f567c997-6192-4aed-83b0-2934b0946b66",
   "metadata": {},
   "outputs": [],
   "source": [
    "import numpy as np\n",
    "import pandas as pd"
   ]
  },
  {
   "cell_type": "markdown",
   "id": "268e33dd-850f-47f6-99d4-0c726b4540b7",
   "metadata": {},
   "source": [
    "# Working With Series"
   ]
  },
  {
   "cell_type": "markdown",
   "id": "3f61b8c9-656f-41bc-a5d1-5981036f7f31",
   "metadata": {},
   "source": [
    "#### Creating A series(Array of Data Values and index)"
   ]
  },
  {
   "cell_type": "code",
   "execution_count": 9,
   "id": "dcf37f4e-7c95-46ad-a19d-79b70ac84c0e",
   "metadata": {},
   "outputs": [
    {
     "data": {
      "text/plain": [
       "0     3\n",
       "1     6\n",
       "2     9\n",
       "3    12\n",
       "dtype: int64"
      ]
     },
     "execution_count": 9,
     "metadata": {},
     "output_type": "execute_result"
    }
   ],
   "source": [
    "obj = pd.Series([3,6,9,12])\n",
    "obj"
   ]
  },
  {
   "cell_type": "code",
   "execution_count": 17,
   "id": "c16e791b-fe84-4aa3-8cfd-5a60d0d92890",
   "metadata": {},
   "outputs": [
    {
     "data": {
      "text/plain": [
       "array([ 3,  6,  9, 12])"
      ]
     },
     "execution_count": 17,
     "metadata": {},
     "output_type": "execute_result"
    }
   ],
   "source": [
    "obj.values # Show Values"
   ]
  },
  {
   "cell_type": "code",
   "execution_count": 15,
   "id": "4f9f531f-35fe-425b-b71f-7c4d5f59b918",
   "metadata": {},
   "outputs": [
    {
     "data": {
      "text/plain": [
       "RangeIndex(start=0, stop=4, step=1)"
      ]
     },
     "execution_count": 15,
     "metadata": {},
     "output_type": "execute_result"
    }
   ],
   "source": [
    "obj.index # Show Index"
   ]
  },
  {
   "cell_type": "markdown",
   "id": "376630a5-bd33-4a5e-82b2-de7b6a3a1470",
   "metadata": {},
   "source": [
    "#### Creating A series with Named Index"
   ]
  },
  {
   "cell_type": "code",
   "execution_count": 27,
   "id": "3a75a55a-6537-46ef-b2fd-dd26a0771404",
   "metadata": {},
   "outputs": [],
   "source": [
    "coins = pd.Series([.01,.05,.10,.25],index=['penny','nickel','dime','quarter'])"
   ]
  },
  {
   "cell_type": "code",
   "execution_count": 29,
   "id": "31d6034d-ffea-4afe-88cd-726fd5445c60",
   "metadata": {},
   "outputs": [
    {
     "data": {
      "text/plain": [
       "penny      0.01\n",
       "nickel     0.05\n",
       "dime       0.10\n",
       "quarter    0.25\n",
       "dtype: float64"
      ]
     },
     "execution_count": 29,
     "metadata": {},
     "output_type": "execute_result"
    }
   ],
   "source": [
    "coins"
   ]
  },
  {
   "cell_type": "code",
   "execution_count": 31,
   "id": "0f2d4092-ed0f-4caa-b969-40bfb5e5fc02",
   "metadata": {},
   "outputs": [
    {
     "data": {
      "text/plain": [
       "np.float64(0.1)"
      ]
     },
     "execution_count": 31,
     "metadata": {},
     "output_type": "execute_result"
    }
   ],
   "source": [
    "coins['dime']\n"
   ]
  },
  {
   "cell_type": "code",
   "execution_count": 33,
   "id": "58373449-c825-451d-852d-99e7dafef291",
   "metadata": {},
   "outputs": [
    {
     "data": {
      "text/plain": [
       "dime       0.10\n",
       "quarter    0.25\n",
       "dtype: float64"
      ]
     },
     "execution_count": 33,
     "metadata": {},
     "output_type": "execute_result"
    }
   ],
   "source": [
    "coins[coins>.07]"
   ]
  },
  {
   "cell_type": "markdown",
   "id": "b41237ea-c054-4fc9-a131-dab2b6e70b74",
   "metadata": {},
   "source": [
    "#### Converting Series to dictionary\n"
   ]
  },
  {
   "cell_type": "code",
   "execution_count": 37,
   "id": "a610f281-f960-4c2e-bcc9-678de1496fa3",
   "metadata": {},
   "outputs": [
    {
     "data": {
      "text/plain": [
       "{'penny': 0.01, 'nickel': 0.05, 'dime': 0.1, 'quarter': 0.25}"
      ]
     },
     "execution_count": 37,
     "metadata": {},
     "output_type": "execute_result"
    }
   ],
   "source": [
    "coin_dict = coins.to_dict()\n",
    "coin_dict"
   ]
  },
  {
   "cell_type": "code",
   "execution_count": 39,
   "id": "ee593c87-9625-4a20-800c-d38f5593024b",
   "metadata": {},
   "outputs": [],
   "source": [
    "coins2 = pd.Series(coin_dict)"
   ]
  },
  {
   "cell_type": "code",
   "execution_count": 41,
   "id": "ff2e2917-2c29-45ce-b32a-922063096756",
   "metadata": {},
   "outputs": [
    {
     "data": {
      "text/plain": [
       "penny      0.01\n",
       "nickel     0.05\n",
       "dime       0.10\n",
       "quarter    0.25\n",
       "dtype: float64"
      ]
     },
     "execution_count": 41,
     "metadata": {},
     "output_type": "execute_result"
    }
   ],
   "source": [
    "coins2"
   ]
  },
  {
   "cell_type": "code",
   "execution_count": null,
   "id": "cf5d288a-eab5-4eb0-81e5-25784cb4871a",
   "metadata": {},
   "outputs": [],
   "source": []
  }
 ],
 "metadata": {
  "kernelspec": {
   "display_name": "Python 3 (ipykernel)",
   "language": "python",
   "name": "python3"
  },
  "language_info": {
   "codemirror_mode": {
    "name": "ipython",
    "version": 3
   },
   "file_extension": ".py",
   "mimetype": "text/x-python",
   "name": "python",
   "nbconvert_exporter": "python",
   "pygments_lexer": "ipython3",
   "version": "3.12.4"
  }
 },
 "nbformat": 4,
 "nbformat_minor": 5
}
