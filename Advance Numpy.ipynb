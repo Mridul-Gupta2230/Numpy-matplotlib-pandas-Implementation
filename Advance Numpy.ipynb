{
 "cells": [
  {
   "cell_type": "code",
   "execution_count": 1,
   "id": "88b46a35-33fb-42e6-9675-729ceb7e7841",
   "metadata": {},
   "outputs": [],
   "source": [
    "import numpy as np\n"
   ]
  },
  {
   "cell_type": "code",
   "execution_count": 3,
   "id": "71e0b0be-ca45-4bda-9fcc-01429fa5185a",
   "metadata": {},
   "outputs": [],
   "source": [
    "A = np.array([1,2,3,4])\n",
    "B = np.array([100,200,300,400])\n",
    "condition = np.array([True,True,False,False])"
   ]
  },
  {
   "cell_type": "markdown",
   "id": "1223cd83-a53b-43eb-a2c6-241ec7b17d53",
   "metadata": {},
   "source": [
    "# Apply Condition to Numpy using np.where(Condition, if True, if false)"
   ]
  },
  {
   "cell_type": "code",
   "execution_count": 5,
   "id": "65608c25-f26c-41fb-b1a1-13230fab0f60",
   "metadata": {},
   "outputs": [],
   "source": [
    "answer2 = np.where(B<300,A,B)"
   ]
  },
  {
   "cell_type": "code",
   "execution_count": 7,
   "id": "507e2fa0-fb62-4b7e-90e0-137eeef0cc3d",
   "metadata": {},
   "outputs": [
    {
     "data": {
      "text/plain": [
       "array([  1,   2, 300, 400])"
      ]
     },
     "execution_count": 7,
     "metadata": {},
     "output_type": "execute_result"
    }
   ],
   "source": [
    "answer2"
   ]
  },
  {
   "cell_type": "code",
   "execution_count": 17,
   "id": "aac089f5-6881-48b5-8359-396a97f39e1c",
   "metadata": {},
   "outputs": [
    {
     "data": {
      "text/plain": [
       "array([[0.00741639, 0.        , 0.6263514 , 1.91355903, 0.        ],\n",
       "       [0.08891472, 0.        , 0.76873988, 0.06470303, 1.24454651],\n",
       "       [0.        , 1.30150699, 0.        , 0.4534573 , 0.        ],\n",
       "       [1.69006788, 0.17218192, 0.9828759 , 0.        , 1.45509307],\n",
       "       [0.2576609 , 0.9073413 , 0.        , 0.44930842, 0.40979417]])"
      ]
     },
     "execution_count": 17,
     "metadata": {},
     "output_type": "execute_result"
    }
   ],
   "source": [
    "from numpy.random import randn\n",
    "arr = randn(5,5)\n",
    "np.where(arr < 0,0,arr) #Where array element is  not less than 0 replaces it by 0 else leave as it is"
   ]
  },
  {
   "cell_type": "code",
   "execution_count": 20,
   "id": "d5f9ec23-3d72-4977-877e-e4b5f1478535",
   "metadata": {},
   "outputs": [],
   "source": [
    "arr = np.array([[1,2,3],[4,5,6],[7,8,9]])"
   ]
  },
  {
   "cell_type": "markdown",
   "id": "26c961e7-7a4a-4761-9405-096dd9a0508f",
   "metadata": {},
   "source": [
    "# Statistical Tools on numpy"
   ]
  },
  {
   "cell_type": "code",
   "execution_count": 23,
   "id": "c6d9f118-204a-4da1-8fe0-e398e158ca93",
   "metadata": {},
   "outputs": [
    {
     "data": {
      "text/plain": [
       "np.int64(45)"
      ]
     },
     "execution_count": 23,
     "metadata": {},
     "output_type": "execute_result"
    }
   ],
   "source": [
    "arr.sum()"
   ]
  },
  {
   "cell_type": "code",
   "execution_count": 25,
   "id": "fe60d86e-6f04-41f4-8854-550af31aca07",
   "metadata": {},
   "outputs": [
    {
     "data": {
      "text/plain": [
       "array([12, 15, 18])"
      ]
     },
     "execution_count": 25,
     "metadata": {},
     "output_type": "execute_result"
    }
   ],
   "source": [
    "arr.sum(0)"
   ]
  },
  {
   "cell_type": "code",
   "execution_count": 27,
   "id": "f1e05e2a-e5e6-4a48-8c93-b7b434298a54",
   "metadata": {},
   "outputs": [
    {
     "data": {
      "text/plain": [
       "np.float64(5.0)"
      ]
     },
     "execution_count": 27,
     "metadata": {},
     "output_type": "execute_result"
    }
   ],
   "source": [
    "arr.mean()"
   ]
  },
  {
   "cell_type": "code",
   "execution_count": 29,
   "id": "a1c9d9d6-d233-4f5f-b9c3-17506f067268",
   "metadata": {},
   "outputs": [
    {
     "data": {
      "text/plain": [
       "np.float64(6.666666666666667)"
      ]
     },
     "execution_count": 29,
     "metadata": {},
     "output_type": "execute_result"
    }
   ],
   "source": [
    "arr.var()"
   ]
  },
  {
   "cell_type": "code",
   "execution_count": 31,
   "id": "458644ae-4fbe-4fa5-9b8a-b2fcf0481618",
   "metadata": {},
   "outputs": [
    {
     "data": {
      "text/plain": [
       "np.float64(2.581988897471611)"
      ]
     },
     "execution_count": 31,
     "metadata": {},
     "output_type": "execute_result"
    }
   ],
   "source": [
    "arr.std()"
   ]
  },
  {
   "cell_type": "markdown",
   "id": "d08cb693-69d0-4523-a229-c908ee92c76e",
   "metadata": {},
   "source": [
    "# any() and all ()"
   ]
  },
  {
   "cell_type": "code",
   "execution_count": 34,
   "id": "432ad5e5-df55-4d91-8856-52c8e98e2ea9",
   "metadata": {},
   "outputs": [],
   "source": [
    "bool_arr = np.array([True,False,True])"
   ]
  },
  {
   "cell_type": "code",
   "execution_count": 36,
   "id": "e05db85c-f1d1-4aae-ae30-c3241232abcd",
   "metadata": {},
   "outputs": [
    {
     "data": {
      "text/plain": [
       "np.True_"
      ]
     },
     "execution_count": 36,
     "metadata": {},
     "output_type": "execute_result"
    }
   ],
   "source": [
    "bool_arr.any()"
   ]
  },
  {
   "cell_type": "code",
   "execution_count": 38,
   "id": "0141d814-cc28-4bd6-b51c-d4ca4d7e2f2c",
   "metadata": {},
   "outputs": [
    {
     "data": {
      "text/plain": [
       "np.False_"
      ]
     },
     "execution_count": 38,
     "metadata": {},
     "output_type": "execute_result"
    }
   ],
   "source": [
    "bool_arr.all()"
   ]
  },
  {
   "cell_type": "markdown",
   "id": "45b803e6-8045-4f33-adce-dc2821e1a60d",
   "metadata": {},
   "source": [
    "# sort(), Unique() and isin()"
   ]
  },
  {
   "cell_type": "code",
   "execution_count": 40,
   "id": "bd14a67d-d152-4f76-9c2b-16225183f1b8",
   "metadata": {},
   "outputs": [
    {
     "data": {
      "text/plain": [
       "array([[-1.89846248, -1.01297025, -0.24302652,  0.16490854,  0.58967351],\n",
       "       [-1.53077602, -0.44220459, -0.00328177,  0.52685642,  0.77298148],\n",
       "       [-1.36252574, -0.30957619,  0.46311188,  0.87799838,  0.9354829 ],\n",
       "       [-1.17486271,  0.10506221,  0.50075305,  0.99603257,  1.7629462 ],\n",
       "       [-0.67121118,  0.46836797,  1.02289529,  1.66129914,  2.5497061 ]])"
      ]
     },
     "execution_count": 40,
     "metadata": {},
     "output_type": "execute_result"
    }
   ],
   "source": [
    "arr = randn(5,5)\n",
    "arr.sort() \n",
    "np.apply_along_axis(sorted, 0, arr)"
   ]
  },
  {
   "cell_type": "code",
   "execution_count": 43,
   "id": "4d3651d7-7695-4bf1-8d4f-22e40a38bacc",
   "metadata": {},
   "outputs": [
    {
     "data": {
      "text/plain": [
       "array(['France', 'Germany', 'Mexico', 'Russia', 'USA'], dtype='<U7')"
      ]
     },
     "execution_count": 43,
     "metadata": {},
     "output_type": "execute_result"
    }
   ],
   "source": [
    "countries = np.array(['France', 'Germany', 'USA', 'Russia', 'USA', 'Mexico'])\n",
    "np.unique(countries)"
   ]
  },
  {
   "cell_type": "code",
   "execution_count": 47,
   "id": "78fed9c2-73b2-4b4f-8350-f04f7adb21e1",
   "metadata": {},
   "outputs": [
    {
     "data": {
      "text/plain": [
       "array([ True,  True, False])"
      ]
     },
     "execution_count": 47,
     "metadata": {},
     "output_type": "execute_result"
    }
   ],
   "source": [
    "np.isin(['France','USA','Sweden'],countries)"
   ]
  }
 ],
 "metadata": {
  "kernelspec": {
   "display_name": "Python 3 (ipykernel)",
   "language": "python",
   "name": "python3"
  },
  "language_info": {
   "codemirror_mode": {
    "name": "ipython",
    "version": 3
   },
   "file_extension": ".py",
   "mimetype": "text/x-python",
   "name": "python",
   "nbconvert_exporter": "python",
   "pygments_lexer": "ipython3",
   "version": "3.12.4"
  }
 },
 "nbformat": 4,
 "nbformat_minor": 5
}
